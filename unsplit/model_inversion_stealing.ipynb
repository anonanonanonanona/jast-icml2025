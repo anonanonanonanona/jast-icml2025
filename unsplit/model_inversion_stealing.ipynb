{
 "cells": [
  {
   "cell_type": "markdown",
   "metadata": {},
   "source": [
    "# Model Inversion & Stealing"
   ]
  },
  {
   "cell_type": "code",
   "execution_count": 1,
   "metadata": {},
   "outputs": [],
   "source": [
    "%load_ext autoreload\n",
    "%autoreload 2"
   ]
  },
  {
   "cell_type": "code",
   "execution_count": 4,
   "metadata": {},
   "outputs": [],
   "source": [
    "import os\n",
    "os.environ[\"CUDA_VISIBLE_DEVICES\"] = \"3\"\n",
    "device = 'cuda:0'"
   ]
  },
  {
   "cell_type": "code",
   "execution_count": 5,
   "metadata": {},
   "outputs": [],
   "source": [
    "import numpy as np\n",
    "import torch\n",
    "from torchvision import transforms, datasets\n",
    "from torchvision.utils import save_image\n",
    "\n",
    "import unsplit.attacks as unsplit\n",
    "from unsplit.models import *\n",
    "from unsplit.util import *\n",
    "\n",
    "from tqdm import tqdm"
   ]
  },
  {
   "cell_type": "markdown",
   "metadata": {},
   "source": [
    "Change the dataset and split layer values as desired. Dataset can be one of `mnist`, `f_mnist`, while the split depth is between 1 and 6 both for CNN and MLP."
   ]
  },
  {
   "cell_type": "code",
   "execution_count": 6,
   "metadata": {},
   "outputs": [],
   "source": [
    "dataset_name = \"mnist\"\n",
    "architecture = \"mlp\"\n",
    "device = \"cuda:0\"\n",
    "batch_size = 64\n",
    "\n",
    "n_epochs = 10\n",
    "split_layer = 1"
   ]
  },
  {
   "cell_type": "code",
   "execution_count": 7,
   "metadata": {},
   "outputs": [],
   "source": [
    "def create_models_and_data(dataset_name=\"mnist\", architecture=\"mlp\", batch_size=64, device=\"cuda:0\", seed=0):\n",
    "    assert dataset_name in [\"mnist\", \"f_mnist\"], \"Wrong dataset name. Valid options are 'mnist' and 'f_mnist'.\"\n",
    "    assert architecture in [\"mlp\", \"cnn\"], \"Wrong architecture name. Valid options are 'mlp' and 'cnn'.\"\n",
    "    dataset_creator = datasets.MNIST if dataset_name == \"mnist\" else datasets.FashionMNIST\n",
    "    model_creator = MLP if architecture == \"mlp\" else CNN\n",
    "    \n",
    "    trainset = dataset_creator(f'data/{dataset_name}', download=True, train=True, transform=transforms.ToTensor())\n",
    "    testset = dataset_creator(f'data/{dataset_name}', download=True, train=False, transform=transforms.ToTensor())\n",
    "    \n",
    "    torch.manual_seed(seed)\n",
    "    client, server = model_creator().to(device), model_creator().to(device)\n",
    "    return client, server, trainset, testset"
   ]
  },
  {
   "cell_type": "code",
   "execution_count": 8,
   "metadata": {},
   "outputs": [
    {
     "name": "stdout",
     "output_type": "stream",
     "text": [
      "Downloading http://yann.lecun.com/exdb/mnist/train-images-idx3-ubyte.gz\n",
      "Failed to download (trying next):\n",
      "HTTP Error 403: Forbidden\n",
      "\n",
      "Downloading https://ossci-datasets.s3.amazonaws.com/mnist/train-images-idx3-ubyte.gz\n",
      "Downloading https://ossci-datasets.s3.amazonaws.com/mnist/train-images-idx3-ubyte.gz to data/mnist/MNIST/raw/train-images-idx3-ubyte.gz\n"
     ]
    },
    {
     "name": "stderr",
     "output_type": "stream",
     "text": [
      "100%|████████████████████████████████████████████████████████████████████████████████████████████████████████████| 9912422/9912422 [00:01<00:00, 7420436.48it/s]\n"
     ]
    },
    {
     "name": "stdout",
     "output_type": "stream",
     "text": [
      "Extracting data/mnist/MNIST/raw/train-images-idx3-ubyte.gz to data/mnist/MNIST/raw\n",
      "\n",
      "Downloading http://yann.lecun.com/exdb/mnist/train-labels-idx1-ubyte.gz\n",
      "Failed to download (trying next):\n",
      "HTTP Error 403: Forbidden\n",
      "\n",
      "Downloading https://ossci-datasets.s3.amazonaws.com/mnist/train-labels-idx1-ubyte.gz\n",
      "Downloading https://ossci-datasets.s3.amazonaws.com/mnist/train-labels-idx1-ubyte.gz to data/mnist/MNIST/raw/train-labels-idx1-ubyte.gz\n"
     ]
    },
    {
     "name": "stderr",
     "output_type": "stream",
     "text": [
      "100%|█████████████████████████████████████████████████████████████████████████████████████████████████████████████████| 28881/28881 [00:00<00:00, 216272.80it/s]\n"
     ]
    },
    {
     "name": "stdout",
     "output_type": "stream",
     "text": [
      "Extracting data/mnist/MNIST/raw/train-labels-idx1-ubyte.gz to data/mnist/MNIST/raw\n",
      "\n",
      "Downloading http://yann.lecun.com/exdb/mnist/t10k-images-idx3-ubyte.gz\n",
      "Failed to download (trying next):\n",
      "HTTP Error 403: Forbidden\n",
      "\n",
      "Downloading https://ossci-datasets.s3.amazonaws.com/mnist/t10k-images-idx3-ubyte.gz\n",
      "Downloading https://ossci-datasets.s3.amazonaws.com/mnist/t10k-images-idx3-ubyte.gz to data/mnist/MNIST/raw/t10k-images-idx3-ubyte.gz\n"
     ]
    },
    {
     "name": "stderr",
     "output_type": "stream",
     "text": [
      "100%|████████████████████████████████████████████████████████████████████████████████████████████████████████████| 1648877/1648877 [00:00<00:00, 2005968.52it/s]\n"
     ]
    },
    {
     "name": "stdout",
     "output_type": "stream",
     "text": [
      "Extracting data/mnist/MNIST/raw/t10k-images-idx3-ubyte.gz to data/mnist/MNIST/raw\n",
      "\n",
      "Downloading http://yann.lecun.com/exdb/mnist/t10k-labels-idx1-ubyte.gz\n",
      "Failed to download (trying next):\n",
      "HTTP Error 403: Forbidden\n",
      "\n",
      "Downloading https://ossci-datasets.s3.amazonaws.com/mnist/t10k-labels-idx1-ubyte.gz\n",
      "Downloading https://ossci-datasets.s3.amazonaws.com/mnist/t10k-labels-idx1-ubyte.gz to data/mnist/MNIST/raw/t10k-labels-idx1-ubyte.gz\n"
     ]
    },
    {
     "name": "stderr",
     "output_type": "stream",
     "text": [
      "100%|██████████████████████████████████████████████████████████████████████████████████████████████████████████████████| 4542/4542 [00:00<00:00, 1861312.04it/s]\n"
     ]
    },
    {
     "name": "stdout",
     "output_type": "stream",
     "text": [
      "Extracting data/mnist/MNIST/raw/t10k-labels-idx1-ubyte.gz to data/mnist/MNIST/raw\n",
      "\n"
     ]
    }
   ],
   "source": [
    "client, server, trainset, testset = create_models_and_data(dataset_name=dataset_name, \n",
    "                                                           architecture=architecture, \n",
    "                                                           batch_size=batch_size,\n",
    "                                                           device=device)"
   ]
  },
  {
   "cell_type": "markdown",
   "metadata": {},
   "source": [
    "The next part trains the client and server models. You can skip this step and launch the attack directly as well."
   ]
  },
  {
   "cell_type": "code",
   "execution_count": 9,
   "metadata": {},
   "outputs": [],
   "source": [
    "def train_client_server(client, server, trainset, testset, split_layer, n_epochs=10, device=\"cuda:0\", batch_size=64):\n",
    "    trainloader = torch.utils.data.DataLoader(trainset, shuffle=True, batch_size=64)\n",
    "    testloader = torch.utils.data.DataLoader(testset, shuffle=True, batch_size=64)\n",
    "    \n",
    "    client_opt = torch.optim.Adam(client.parameters(), lr=0.001, amsgrad=True)\n",
    "    server_opt = torch.optim.Adam(server.parameters(), lr=0.001, amsgrad=True)\n",
    "    criterion = torch.nn.CrossEntropyLoss()\n",
    "\n",
    "    for epoch in range(n_epochs):\n",
    "        running_loss = 0\n",
    "        for images, labels in tqdm(trainloader):\n",
    "            images, labels = images.to(device), labels.to(device)\n",
    "            client_opt.zero_grad()\n",
    "            server_opt.zero_grad()\n",
    "\n",
    "            client_pred = client(images, end=split_layer)\n",
    "            pred = server(client_pred, start=split_layer+1)\n",
    "\n",
    "            loss = criterion(pred, labels)\n",
    "            loss.backward()\n",
    "            running_loss += loss\n",
    "\n",
    "            server_opt.step()\n",
    "            client_opt.step()\n",
    "        print(f'Epoch: {epoch} Loss: {running_loss / len(trainloader)} Acc: {get_test_acc(client, server, testloader, split=split_layer)}')\n",
    "    return client, server"
   ]
  },
  {
   "cell_type": "code",
   "execution_count": 10,
   "metadata": {},
   "outputs": [
    {
     "name": "stderr",
     "output_type": "stream",
     "text": [
      "100%|█████████████████████████████████████████████████████████████████████████████████████████████████████████████████████████| 938/938 [00:14<00:00, 66.42it/s]\n"
     ]
    },
    {
     "name": "stdout",
     "output_type": "stream",
     "text": [
      "Epoch: 0 Loss: 0.21331937611103058 Acc: 0.9663999676704407\n"
     ]
    },
    {
     "name": "stderr",
     "output_type": "stream",
     "text": [
      "100%|█████████████████████████████████████████████████████████████████████████████████████████████████████████████████████████| 938/938 [00:13<00:00, 67.84it/s]\n"
     ]
    },
    {
     "name": "stdout",
     "output_type": "stream",
     "text": [
      "Epoch: 1 Loss: 0.09071116149425507 Acc: 0.97079998254776\n"
     ]
    },
    {
     "name": "stderr",
     "output_type": "stream",
     "text": [
      "100%|█████████████████████████████████████████████████████████████████████████████████████████████████████████████████████████| 938/938 [00:13<00:00, 67.94it/s]\n"
     ]
    },
    {
     "name": "stdout",
     "output_type": "stream",
     "text": [
      "Epoch: 2 Loss: 0.06066155806183815 Acc: 0.97489994764328\n"
     ]
    },
    {
     "name": "stderr",
     "output_type": "stream",
     "text": [
      "100%|█████████████████████████████████████████████████████████████████████████████████████████████████████████████████████████| 938/938 [00:13<00:00, 72.07it/s]\n"
     ]
    },
    {
     "name": "stdout",
     "output_type": "stream",
     "text": [
      "Epoch: 3 Loss: 0.04743756353855133 Acc: 0.9811999797821045\n"
     ]
    },
    {
     "name": "stderr",
     "output_type": "stream",
     "text": [
      "100%|█████████████████████████████████████████████████████████████████████████████████████████████████████████████████████████| 938/938 [00:09<00:00, 95.60it/s]\n"
     ]
    },
    {
     "name": "stdout",
     "output_type": "stream",
     "text": [
      "Epoch: 4 Loss: 0.032594770193099976 Acc: 0.979699969291687\n"
     ]
    },
    {
     "name": "stderr",
     "output_type": "stream",
     "text": [
      "100%|█████████████████████████████████████████████████████████████████████████████████████████████████████████████████████████| 938/938 [00:14<00:00, 66.95it/s]\n"
     ]
    },
    {
     "name": "stdout",
     "output_type": "stream",
     "text": [
      "Epoch: 5 Loss: 0.02699957601726055 Acc: 0.9819999933242798\n"
     ]
    },
    {
     "name": "stderr",
     "output_type": "stream",
     "text": [
      "100%|█████████████████████████████████████████████████████████████████████████████████████████████████████████████████████████| 938/938 [00:13<00:00, 71.78it/s]\n"
     ]
    },
    {
     "name": "stdout",
     "output_type": "stream",
     "text": [
      "Epoch: 6 Loss: 0.020119933411478996 Acc: 0.9819999933242798\n"
     ]
    },
    {
     "name": "stderr",
     "output_type": "stream",
     "text": [
      "100%|█████████████████████████████████████████████████████████████████████████████████████████████████████████████████████████| 938/938 [00:12<00:00, 73.57it/s]\n"
     ]
    },
    {
     "name": "stdout",
     "output_type": "stream",
     "text": [
      "Epoch: 7 Loss: 0.01892716810107231 Acc: 0.9781000018119812\n"
     ]
    },
    {
     "name": "stderr",
     "output_type": "stream",
     "text": [
      "100%|████████████████████████████████████████████████████████████████████████████████████████████████████████████████████████| 938/938 [00:07<00:00, 118.28it/s]\n"
     ]
    },
    {
     "name": "stdout",
     "output_type": "stream",
     "text": [
      "Epoch: 8 Loss: 0.016076814383268356 Acc: 0.9803999662399292\n"
     ]
    },
    {
     "name": "stderr",
     "output_type": "stream",
     "text": [
      "100%|████████████████████████████████████████████████████████████████████████████████████████████████████████████████████████| 938/938 [00:07<00:00, 121.85it/s]\n"
     ]
    },
    {
     "name": "stdout",
     "output_type": "stream",
     "text": [
      "Epoch: 9 Loss: 0.01084762904793024 Acc: 0.9811999797821045\n"
     ]
    }
   ],
   "source": [
    "client, server = train_client_server(client=client, server=server, trainset=trainset, testset=testset, \n",
    "                                     split_layer=split_layer, n_epochs=10, device=device)"
   ]
  },
  {
   "cell_type": "markdown",
   "metadata": {},
   "source": [
    "We are now ready to launch the attack. The next code cell loads `COUNT` many examples from each class of the dataset. Those examples will be used as targets in the attack."
   ]
  },
  {
   "cell_type": "code",
   "execution_count": 11,
   "metadata": {},
   "outputs": [],
   "source": [
    "COUNT = 1\n",
    "inversion_targets = [get_examples_by_class(testset, i, count=COUNT).to(device) for i in range(10)]"
   ]
  },
  {
   "cell_type": "code",
   "execution_count": 12,
   "metadata": {},
   "outputs": [
    {
     "data": {
      "image/png": "[encoded data removed]",
      "text/plain": [
       "<Figure size 640x480 with 10 Axes>"
      ]
     },
     "metadata": {},
     "output_type": "display_data"
    }
   ],
   "source": [
    "display_imagelist(inversion_targets)"
   ]
  },
  {
   "cell_type": "markdown",
   "metadata": {},
   "source": [
    "We now launch the attack, iterating over the examples from the previous cell.\n",
    "\n",
    "You can change the `main_iters`, `input_iters`, and `model_iters` variables to observe how the attack performs under different configurations. "
   ]
  },
  {
   "cell_type": "code",
   "execution_count": 13,
   "metadata": {},
   "outputs": [],
   "source": [
    "main_iters, input_iters, model_iters = 200, 20, 20\n",
    "lambda_l2, lambda_tv = 0.1, 1.0"
   ]
  },
  {
   "cell_type": "code",
   "execution_count": 14,
   "metadata": {},
   "outputs": [],
   "source": [
    "def launch_attack(inversion_targets, client, split_layer, clone_architecture=\"mlp\",\n",
    "                  main_iters=1000, input_iters=100, model_iters=100,\n",
    "                  lambda_tv=0.1, lambda_l2=1, device=\"cuda:0\"):\n",
    "    assert clone_architecture in [\"mlp\", \"cnn\"], \"Wrong architecture name. Valid options are 'mlp' and 'cnn'.\"\n",
    "    clone = MLP() if architecture == \"mlp\" else CNN()\n",
    "    mse = torch.nn.MSELoss()\n",
    "    \n",
    "    reconstructed_images, reconstruction_losses = [], []\n",
    "    cut_layer_training_losses = []\n",
    "    for idx, target in enumerate(inversion_targets):\n",
    "        # obtain client output\n",
    "        with torch.no_grad():\n",
    "            client_out = client(target, end=split_layer)\n",
    "\n",
    "        # perform the attack\n",
    "        target_size = target.size()\n",
    "        reconstructed, cur_loss_arr = unsplit.model_inversion_stealing(\n",
    "            clone, split_layer, client_out, target_size,\n",
    "            main_iters=main_iters, input_iters=input_iters, model_iters=model_iters, \n",
    "            lambda_tv=lambda_tv, lambda_l2=lambda_l2, device=device\n",
    "        )\n",
    "        cut_layer_training_losses.append(cur_loss_arr)\n",
    "\n",
    "        # save result\n",
    "        reconstructed = normalize(reconstructed)\n",
    "        reconstructed_images.append(reconstructed)\n",
    "        reconstruction_loss = mse(reconstructed, target)\n",
    "        reconstruction_losses.append(reconstruction_loss.item())\n",
    "    return clone, reconstructed_images, reconstruction_losses, cut_layer_training_losses"
   ]
  },
  {
   "cell_type": "code",
   "execution_count": 15,
   "metadata": {},
   "outputs": [
    {
     "name": "stderr",
     "output_type": "stream",
     "text": [
      "100%|█████████████████████████████████████████████████████████████████████████████████████████████████████████████████████████| 200/200 [00:12<00:00, 15.42it/s]\n",
      "100%|█████████████████████████████████████████████████████████████████████████████████████████████████████████████████████████| 200/200 [00:13<00:00, 15.32it/s]\n",
      "100%|█████████████████████████████████████████████████████████████████████████████████████████████████████████████████████████| 200/200 [00:12<00:00, 15.70it/s]\n",
      "100%|█████████████████████████████████████████████████████████████████████████████████████████████████████████████████████████| 200/200 [00:13<00:00, 15.12it/s]\n",
      "100%|█████████████████████████████████████████████████████████████████████████████████████████████████████████████████████████| 200/200 [00:13<00:00, 14.79it/s]\n",
      "100%|█████████████████████████████████████████████████████████████████████████████████████████████████████████████████████████| 200/200 [00:13<00:00, 15.17it/s]\n",
      "100%|█████████████████████████████████████████████████████████████████████████████████████████████████████████████████████████| 200/200 [00:13<00:00, 15.06it/s]\n",
      "100%|█████████████████████████████████████████████████████████████████████████████████████████████████████████████████████████| 200/200 [00:13<00:00, 15.30it/s]\n",
      "100%|█████████████████████████████████████████████████████████████████████████████████████████████████████████████████████████| 200/200 [00:13<00:00, 15.07it/s]\n",
      "100%|█████████████████████████████████████████████████████████████████████████████████████████████████████████████████████████| 200/200 [00:13<00:00, 15.16it/s]\n"
     ]
    }
   ],
   "source": [
    "clone, reconstructed_images, reconstruction_losses, cut_layer_training_losses = launch_attack(\n",
    "    inversion_targets, client, split_layer, clone_architecture=architecture,\n",
    "    main_iters=main_iters, input_iters=input_iters, model_iters=model_iters,\n",
    "    lambda_tv=lambda_tv, lambda_l2=lambda_l2, device=device\n",
    ")"
   ]
  },
  {
   "cell_type": "code",
   "execution_count": 16,
   "metadata": {},
   "outputs": [
    {
     "data": {
      "image/png": "[encoded data removed]",
      "text/plain": [
       "<Figure size 640x480 with 10 Axes>"
      ]
     },
     "metadata": {},
     "output_type": "display_data"
    },
    {
     "data": {
      "image/png": "[encoded data removed]",
      "text/plain": [
       "<Figure size 640x480 with 10 Axes>"
      ]
     },
     "metadata": {},
     "output_type": "display_data"
    }
   ],
   "source": [
    "display_imagelist(inversion_targets)\n",
    "display_imagelist(reconstructed_images)"
   ]
  },
  {
   "cell_type": "code",
   "execution_count": 17,
   "metadata": {},
   "outputs": [],
   "source": [
    "def compute_metrics(inversion_targets, reconstructed_images, \n",
    "                    reconstruction_losses, cut_layer_training_losses,\n",
    "                    compute_fid=False):\n",
    "    reconstruction_mse = np.mean(reconstruction_losses)\n",
    "    cut_layer_mse = np.mean([loss_arr[-1] for loss_arr in cut_layer_training_losses])\n",
    "    print(f\"Recounstruction MSE: {reconstruction_mse:.3f}\")\n",
    "    print(f\"Log10 of cut layer MSE: {np.log10(cut_layer_mse):.3f}\")\n",
    "    if compute_fid:\n",
    "        print(f\"FID: {compute_fid(inversion_targets, reconstructed_images):.1f}\")"
   ]
  },
  {
   "cell_type": "code",
   "execution_count": 18,
   "metadata": {},
   "outputs": [
    {
     "name": "stdout",
     "output_type": "stream",
     "text": [
      "Recounstruction MSE: 0.272\n",
      "Log10 of cut layer MSE: -6.149\n"
     ]
    }
   ],
   "source": [
    "compute_metrics(inversion_targets, reconstructed_images, reconstruction_losses, cut_layer_training_losses)"
   ]
  },
  {
   "cell_type": "code",
   "execution_count": null,
   "metadata": {},
   "outputs": [],
   "source": []
  }
 ],
 "metadata": {
  "kernelspec": {
   "display_name": "Python 3 (ipykernel)",
   "language": "python",
   "name": "python3"
  },
  "language_info": {
   "codemirror_mode": {
    "name": "ipython",
    "version": 3
   },
   "file_extension": ".py",
   "mimetype": "text/x-python",
   "name": "python",
   "nbconvert_exporter": "python",
   "pygments_lexer": "ipython3",
   "version": "3.8.19"
  }
 },
 "nbformat": 4,
 "nbformat_minor": 2
}
